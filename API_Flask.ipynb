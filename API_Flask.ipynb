{
  "nbformat": 4,
  "nbformat_minor": 0,
  "metadata": {
    "colab": {
      "provenance": [],
      "authorship_tag": "ABX9TyMHv0zfuw9aEDaLpcUj86LD",
      "include_colab_link": true
    },
    "kernelspec": {
      "name": "python3",
      "display_name": "Python 3"
    },
    "language_info": {
      "name": "python"
    }
  },
  "cells": [
    {
      "cell_type": "markdown",
      "metadata": {
        "id": "view-in-github",
        "colab_type": "text"
      },
      "source": [
        "<a href=\"https://colab.research.google.com/github/BrunaMatias/Python_projects/blob/main/API_Flask.ipynb\" target=\"_parent\"><img src=\"https://colab.research.google.com/assets/colab-badge.svg\" alt=\"Open In Colab\"/></a>"
      ]
    },
    {
      "cell_type": "code",
      "source": [
        "# Instalando o Flask\n",
        "!pip install flask\n"
      ],
      "metadata": {
        "id": "vgwzT7BdaJMb"
      },
      "execution_count": null,
      "outputs": []
    },
    {
      "cell_type": "code",
      "source": [
        "\n",
        "# Importando as bibliotecas necessárias\n",
        "from flask import Flask, jsonify\n",
        "\n",
        "# Inicializando o aplicativo Flask\n",
        "app = Flask(__name__)\n",
        "\n",
        "# Dados em forma de dicionário\n",
        "dados = {\n",
        "    \"pessoa1\": {\n",
        "        \"id\": 1,\n",
        "        \"nome\": \"João\",\n",
        "        \"idade\": 25,\n",
        "        \"cidade\": \"São Paulo\"\n",
        "    },\n",
        "    \"pessoa2\": {\n",
        "        \"id\": 2,\n",
        "        \"nome\": \"Maria\",\n",
        "        \"idade\": 30,\n",
        "        \"cidade\": \"Rio de Janeiro\"\n",
        "    },\n",
        "    \"pessoa3\": {\n",
        "        \"id\": 3,\n",
        "        \"nome\": \"Pedro\",\n",
        "        \"idade\": 35,\n",
        "        \"cidade\": \"Belo Horizonte\"\n",
        "    }\n",
        "}\n",
        "\n",
        "# Rota para a página inicial\n",
        "@app.route('/index')\n",
        "def index():\n",
        "    # Retornar os dados como JSON\n",
        "    return jsonify(dados)\n",
        "\n",
        "# Executar o aplicativo Flask\n",
        "if __name__ == '__main__':\n",
        "    app.run(debug=True)\n"
      ],
      "metadata": {
        "id": "bEttQlDHZg7K"
      },
      "execution_count": null,
      "outputs": []
    }
  ]
}